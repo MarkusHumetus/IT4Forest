{
 "cells": [
  {
   "cell_type": "code",
   "execution_count": 1,
   "id": "b4128ba7",
   "metadata": {},
   "outputs": [
    {
     "name": "stdout",
     "output_type": "stream",
     "text": [
      "Tensorflow/Keras: 2.9.0\n",
      "pandas: 1.4.2\n",
      "numpy: 1.22.3\n",
      "sklearn: 1.1.1\n",
      "OpenCV: 4.6.0\n",
      "matplotlib: 3.5.2\n",
      "python version: 3.9.13\n"
     ]
    }
   ],
   "source": [
    "# Tensorflow / Keras\n",
    "import tensorflow as tf # used to access argmax function\n",
    "from tensorflow import keras # for building Neural Networks\n",
    "print('Tensorflow/Keras: %s' % keras.__version__) # print version\n",
    "from keras.models import Sequential # for creating a linear stack of layers for our Neural Network\n",
    "from keras import Input # for instantiating a keras tensor\n",
    "from keras.layers import Dense, Conv2D, MaxPool2D, Flatten, Dropout, MaxPooling2D, AveragePooling2D, GlobalAveragePooling2D # for adding Concolutional and densely-connected NN layers.\n",
    "from keras.preprocessing.image import ImageDataGenerator  \n",
    "from tensorflow.keras.applications import vgg16, inception_v3, resnet50, mobilenet, Xception, InceptionV3,  VGG16, VGG19, ResNet50V2, ResNet101V2, ResNet152V2, InceptionResNetV2, MobileNetV2, DenseNet121, DenseNet169, DenseNet201, EfficientNetB0, EfficientNetB4, EfficientNetB7, NASNetLarge  #import pretrained CNN\n",
    "from tensorflow.keras import applications \n",
    "from keras.models import model_from_json #to save models as json file\n",
    "from keras.applications.inception_v3 import decode_predictions \n",
    "from tensorflow.keras.preprocessing.image import load_img, img_to_array\n",
    "from tensorflow.keras.models import Model\n",
    "from tensorflow.keras.optimizers import Adam, RMSprop\n",
    "#from tensorflow.keras.utils import to_categorical\n",
    " \n",
    "\n",
    "# Data manipulation\n",
    "import pandas as pd # for data manipulation\n",
    "print('pandas: %s' % pd.__version__) # print version\n",
    "import numpy as np # for data manipulation\n",
    "print('numpy: %s' % np.__version__) # print version\n",
    "import pathlib\n",
    "from glob import glob\n",
    "from tqdm import tqdm\n",
    "\n",
    "\n",
    "# Sklearn\n",
    "import sklearn # for model evaluation\n",
    "print('sklearn: %s' % sklearn.__version__) # print version\n",
    "from sklearn.model_selection import train_test_split # for splitting the data into train and test samples\n",
    "from sklearn.preprocessing import OrdinalEncoder # for encoding labels\n",
    "from sklearn.preprocessing import LabelEncoder\n",
    "# from sklearn.model_selection import StratifiedShuffleSplit # to split stratified \n",
    "from sklearn.model_selection import StratifiedKFold\n",
    "from sklearn.metrics import classification_report, confusion_matrix, accuracy_score, balanced_accuracy_score, precision_score, recall_score, f1_score, cohen_kappa_score, matthews_corrcoef, roc_auc_score, confusion_matrix\n",
    "\n",
    "\n",
    "# Visualization\n",
    "import matplotlib.image as mpimg\n",
    "import cv2 # for ingesting images\n",
    "print('OpenCV: %s' % cv2.__version__) # print version\n",
    "import matplotlib \n",
    "import matplotlib.pyplot as plt # for showing images\n",
    "print('matplotlib: %s' % matplotlib.__version__) # print version\n",
    "from PIL import Image\n",
    "import random\n",
    "import seaborn as sns\n",
    "sns.set_style('white') \n",
    "from skimage import io #to visualize images\n",
    "\n",
    "# To web scap new images\n",
    "from bing_image_downloader import downloader\n",
    "from selenium import webdriver \n",
    "\n",
    "\n",
    "# Other utilities\n",
    "import sys\n",
    "import os\n",
    "from platform import python_version\n",
    "import datetime\n",
    "from time import localtime, strftime, gmtime\n",
    "\n",
    "\n",
    "print('python version: %s' % python_version()) # print version"
   ]
  },
  {
   "cell_type": "code",
   "execution_count": null,
   "id": "a9646cde",
   "metadata": {},
   "outputs": [],
   "source": []
  },
  {
   "cell_type": "code",
   "execution_count": null,
   "id": "2060724e",
   "metadata": {},
   "outputs": [],
   "source": []
  },
  {
   "cell_type": "code",
   "execution_count": null,
   "id": "ead84a8e",
   "metadata": {},
   "outputs": [],
   "source": []
  },
  {
   "cell_type": "code",
   "execution_count": null,
   "id": "7118be60",
   "metadata": {},
   "outputs": [],
   "source": []
  },
  {
   "cell_type": "code",
   "execution_count": null,
   "id": "14c11937",
   "metadata": {},
   "outputs": [],
   "source": [
    "# Saving in a text file all installed libraries in the environment used to run this project.\n",
    "!pip freeze > requirements.txt "
   ]
  }
 ],
 "metadata": {
  "kernelspec": {
   "display_name": "Python 3.9.13 ('NeuronalNetwork')",
   "language": "python",
   "name": "python3"
  },
  "language_info": {
   "codemirror_mode": {
    "name": "ipython",
    "version": 3
   },
   "file_extension": ".py",
   "mimetype": "text/x-python",
   "name": "python",
   "nbconvert_exporter": "python",
   "pygments_lexer": "ipython3",
   "version": "3.9.13"
  },
  "latex_envs": {
   "LaTeX_envs_menu_present": true,
   "autoclose": false,
   "autocomplete": true,
   "bibliofile": "biblio.bib",
   "cite_by": "apalike",
   "current_citInitial": 1,
   "eqLabelWithNumbers": true,
   "eqNumInitial": 1,
   "hotkeys": {
    "equation": "Ctrl-E",
    "itemize": "Ctrl-I"
   },
   "labels_anchors": false,
   "latex_user_defs": false,
   "report_style_numbering": false,
   "user_envs_cfg": false
  },
  "vscode": {
   "interpreter": {
    "hash": "ba370917a355ec78ddf17e7842e8975915af0e08f57c7dd5296cba069c129853"
   }
  },
  "widgets": {
   "application/vnd.jupyter.widget-state+json": {
    "state": {},
    "version_major": 2,
    "version_minor": 0
   }
  }
 },
 "nbformat": 4,
 "nbformat_minor": 5
}
